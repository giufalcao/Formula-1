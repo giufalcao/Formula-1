{
 "cells": [
  {
   "cell_type": "markdown",
   "metadata": {},
   "source": [
    "### Step 1 - Start Spark Session and Include additional configurations and common functions"
   ]
  },
  {
   "cell_type": "code",
   "execution_count": 1,
   "metadata": {},
   "outputs": [],
   "source": [
    "%run \"../includes/configurations\""
   ]
  },
  {
   "cell_type": "code",
   "execution_count": 2,
   "metadata": {},
   "outputs": [],
   "source": [
    "%run \"../includes/common_functions\""
   ]
  },
  {
   "cell_type": "code",
   "execution_count": 3,
   "metadata": {},
   "outputs": [
    {
     "name": "stderr",
     "output_type": "stream",
     "text": [
      "23/12/29 11:30:49 WARN Utils: Your hostname, falcao-sys resolves to a loopback address: 127.0.1.1; using 192.168.11.185 instead (on interface wlx7898e8c12476)\n",
      "23/12/29 11:30:49 WARN Utils: Set SPARK_LOCAL_IP if you need to bind to another address\n",
      "Setting default log level to \"WARN\".\n",
      "To adjust logging level use sc.setLogLevel(newLevel). For SparkR, use setLogLevel(newLevel).\n",
      "23/12/29 11:30:50 WARN NativeCodeLoader: Unable to load native-hadoop library for your platform... using builtin-java classes where applicable\n"
     ]
    }
   ],
   "source": [
    "from pyspark.sql import SparkSession\n",
    "from pyspark.sql.types import StructType, StructField, IntegerType, StringType, FloatType\n",
    "\n",
    "# Initialize a Spark session\n",
    "spark = SparkSession.builder.appName(\"ResultsIngestion\").getOrCreate()"
   ]
  },
  {
   "cell_type": "markdown",
   "metadata": {},
   "source": [
    "### Step 2 - Read the JSON file sing the Spark Dataframe Reader"
   ]
  },
  {
   "cell_type": "code",
   "execution_count": 4,
   "metadata": {},
   "outputs": [],
   "source": [
    "results_schema = StructType(fields=[\n",
    "    StructField(\"resultId\", IntegerType(), False),\n",
    "    StructField(\"raceId\", IntegerType(), False),\n",
    "    StructField(\"driverId\", IntegerType(), False),\n",
    "    StructField(\"constructorId\", IntegerType(), False),\n",
    "    StructField(\"number\", IntegerType(), True),\n",
    "    StructField(\"grid\", IntegerType(), False),\n",
    "    StructField(\"position\", IntegerType(), True),\n",
    "    StructField(\"positionText\", StringType(), False),\n",
    "    StructField(\"positionOrder\", IntegerType(), False),\n",
    "    StructField(\"points\", FloatType(), False),\n",
    "    StructField(\"laps\", IntegerType(), False),\n",
    "    StructField(\"time\", StringType(), True),\n",
    "    StructField(\"milliseconds\", IntegerType(), True),\n",
    "    StructField(\"fastestLap\", IntegerType(), True),\n",
    "    StructField(\"rank\", IntegerType(), True),\n",
    "    StructField(\"fastestLapTime\", StringType(), True),\n",
    "    StructField(\"fastestLapSpeed\", FloatType(), True),\n",
    "    StructField(\"statusId\", IntegerType(), False),\n",
    "])"
   ]
  },
  {
   "cell_type": "code",
   "execution_count": 5,
   "metadata": {},
   "outputs": [],
   "source": [
    "results_df = spark.read.schema(results_schema).json(\"../data/results.json\")"
   ]
  },
  {
   "cell_type": "markdown",
   "metadata": {},
   "source": [
    "### Step 3 - Rename and drop columns, and add new columns"
   ]
  },
  {
   "cell_type": "code",
   "execution_count": 6,
   "metadata": {},
   "outputs": [],
   "source": [
    "results_column_mapping = {\n",
    "    \"resultId\": \"result_id\",\n",
    "    \"raceId\": \"race_id\",\n",
    "    \"driverId\": \"driver_id\",\n",
    "    \"constructorId\": \"constructor_id\",\n",
    "    \"positionText\": \"position_text\",\n",
    "    \"positionOrder\": \"position_order\",\n",
    "    \"fastestLap\": \"fastest_lap\",\n",
    "    \"fastestLapTime\": \"fastest_lap_time\",\n",
    "    \"fastestLapSpeed\": \"fastest_lap_speed\"\n",
    "}\n",
    "\n",
    "results_df = rename_columns(results_df, results_column_mapping)"
   ]
  },
  {
   "cell_type": "code",
   "execution_count": 7,
   "metadata": {},
   "outputs": [],
   "source": [
    "columns_to_drop = ['statusId']\n",
    "\n",
    "results_df = drop_columns(results_df, columns_to_drop)"
   ]
  },
  {
   "cell_type": "code",
   "execution_count": 8,
   "metadata": {},
   "outputs": [],
   "source": [
    "results_df = add_ingestion_date(results_df)"
   ]
  },
  {
   "cell_type": "markdown",
   "metadata": {},
   "source": [
    "### Step 4 - Write to output to process container in Parquet Format"
   ]
  },
  {
   "cell_type": "code",
   "execution_count": 9,
   "metadata": {},
   "outputs": [
    {
     "name": "stderr",
     "output_type": "stream",
     "text": [
      "                                                                                \r"
     ]
    }
   ],
   "source": [
    "results_df.write.mode(\"overwrite\").partitionBy(\"race_id\").parquet(\"../processed_data/results\")"
   ]
  }
 ],
 "metadata": {
  "kernelspec": {
   "display_name": "data_engineer",
   "language": "python",
   "name": "python3"
  },
  "language_info": {
   "codemirror_mode": {
    "name": "ipython",
    "version": 3
   },
   "file_extension": ".py",
   "mimetype": "text/x-python",
   "name": "python",
   "nbconvert_exporter": "python",
   "pygments_lexer": "ipython3",
   "version": "3.12.0"
  }
 },
 "nbformat": 4,
 "nbformat_minor": 2
}
