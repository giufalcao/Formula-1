{
 "cells": [
  {
   "cell_type": "markdown",
   "metadata": {},
   "source": [
    "### Step 1 - Start Spark Session, include additional configurations and common functions, and read data from the spark-warehouse database"
   ]
  },
  {
   "cell_type": "code",
   "execution_count": null,
   "metadata": {},
   "outputs": [],
   "source": [
    "%run \"../includes/configurations\""
   ]
  },
  {
   "cell_type": "code",
   "execution_count": null,
   "metadata": {},
   "outputs": [],
   "source": [
    "%run \"../includes/common_functions\""
   ]
  },
  {
   "cell_type": "code",
   "execution_count": null,
   "metadata": {},
   "outputs": [],
   "source": [
    "appName = \"Constructors Ingestion\"\n",
    "spark = create_spark_context(appName, warehouse_location)"
   ]
  },
  {
   "cell_type": "code",
   "execution_count": null,
   "metadata": {},
   "outputs": [],
   "source": [
    "results_df = spark.read.parquet(f\"{warehouse_location}/f1_raw.db/results\")"
   ]
  },
  {
   "cell_type": "markdown",
   "metadata": {},
   "source": [
    "### Step 2 - Rename and drop columns, and add new columns"
   ]
  },
  {
   "cell_type": "code",
   "execution_count": null,
   "metadata": {},
   "outputs": [],
   "source": [
    "results_column_mapping = {\n",
    "    \"resultId\": \"result_id\",\n",
    "    \"raceId\": \"race_id\",\n",
    "    \"driverId\": \"driver_id\",\n",
    "    \"constructorId\": \"constructor_id\",\n",
    "    \"positionText\": \"position_text\",\n",
    "    \"positionOrder\": \"position_order\",\n",
    "    \"fastestLap\": \"fastest_lap\",\n",
    "    \"fastestLapTime\": \"fastest_lap_time\",\n",
    "    \"fastestLapSpeed\": \"fastest_lap_speed\"\n",
    "}\n",
    "\n",
    "results_df = rename_columns(results_df, results_column_mapping)"
   ]
  },
  {
   "cell_type": "code",
   "execution_count": null,
   "metadata": {},
   "outputs": [],
   "source": [
    "columns_to_drop = ['statusId']\n",
    "\n",
    "results_df = drop_columns(results_df, columns_to_drop)"
   ]
  },
  {
   "cell_type": "code",
   "execution_count": null,
   "metadata": {},
   "outputs": [],
   "source": [
    "results_df = add_ingestion_date(results_df)"
   ]
  },
  {
   "cell_type": "markdown",
   "metadata": {},
   "source": [
    "### Step 3 - Write a data to a Datalake as a Parquet"
   ]
  },
  {
   "cell_type": "code",
   "execution_count": null,
   "metadata": {},
   "outputs": [],
   "source": [
    "results_df.write.mode(\"overwrite\").partitionBy(\"race_id\").parquet(f\"{processed_folder_path}/results\")"
   ]
  }
 ],
 "metadata": {
  "kernelspec": {
   "display_name": "data_engineer",
   "language": "python",
   "name": "python3"
  },
  "language_info": {
   "codemirror_mode": {
    "name": "ipython",
    "version": 3
   },
   "file_extension": ".py",
   "mimetype": "text/x-python",
   "name": "python",
   "nbconvert_exporter": "python",
   "pygments_lexer": "ipython3",
   "version": "3.12.0"
  }
 },
 "nbformat": 4,
 "nbformat_minor": 2
}
