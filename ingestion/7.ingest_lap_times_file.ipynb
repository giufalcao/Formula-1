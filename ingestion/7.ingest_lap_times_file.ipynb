{
 "cells": [
  {
   "cell_type": "markdown",
   "metadata": {},
   "source": [
    "### Step 1 - Start Spark Session"
   ]
  },
  {
   "cell_type": "code",
   "execution_count": 8,
   "metadata": {},
   "outputs": [],
   "source": [
    "from pyspark.sql import SparkSession\n",
    "from pyspark.sql.types import StructType, StructField, IntegerType, StringType, FloatType\n",
    "from pyspark.sql.functions import current_timestamp\n",
    "\n",
    "# Initialize a Spark session\n",
    "spark = SparkSession.builder.appName(\"LapTimes\").getOrCreate()"
   ]
  },
  {
   "cell_type": "markdown",
   "metadata": {},
   "source": [
    "### Step 2 - Read the foler with lap times files using the Spark Dataframe Reader"
   ]
  },
  {
   "cell_type": "code",
   "execution_count": 9,
   "metadata": {},
   "outputs": [],
   "source": [
    "lap_times_schema = StructType(fields=[\n",
    "    StructField(\"raceId\", IntegerType(), False),\n",
    "    StructField(\"driverId\", IntegerType(), False),\n",
    "    StructField(\"position\", IntegerType(), False),\n",
    "    StructField(\"lap\", IntegerType(), False),\n",
    "    StructField(\"time\", StringType(), True),\n",
    "    StructField(\"milliseconds\", IntegerType(), True)\n",
    "])"
   ]
  },
  {
   "cell_type": "code",
   "execution_count": 10,
   "metadata": {},
   "outputs": [],
   "source": [
    "lap_times_df = spark.read\\\n",
    "    .schema(lap_times_schema)\\\n",
    "    .csv(\"../data/lap_times/lap_times_split*.csv\")"
   ]
  },
  {
   "cell_type": "code",
   "execution_count": 11,
   "metadata": {},
   "outputs": [
    {
     "name": "stdout",
     "output_type": "stream",
     "text": [
      "+------+--------+--------+---+--------+------------+\n",
      "|raceId|driverId|position|lap|    time|milliseconds|\n",
      "+------+--------+--------+---+--------+------------+\n",
      "|   841|      20|       1|  1|1:38.109|       98109|\n",
      "|   841|      20|       2|  1|1:33.006|       93006|\n",
      "|   841|      20|       3|  1|1:32.713|       92713|\n",
      "|   841|      20|       4|  1|1:32.803|       92803|\n",
      "|   841|      20|       5|  1|1:32.342|       92342|\n",
      "|   841|      20|       6|  1|1:32.605|       92605|\n",
      "|   841|      20|       7|  1|1:32.502|       92502|\n",
      "|   841|      20|       8|  1|1:32.537|       92537|\n",
      "|   841|      20|       9|  1|1:33.240|       93240|\n",
      "|   841|      20|      10|  1|1:32.572|       92572|\n",
      "|   841|      20|      11|  1|1:32.669|       92669|\n",
      "|   841|      20|      12|  1|1:32.902|       92902|\n",
      "|   841|      20|      13|  1|1:33.698|       93698|\n",
      "|   841|      20|      14|  3|1:52.075|      112075|\n",
      "|   841|      20|      15|  4|1:38.385|       98385|\n",
      "|   841|      20|      16|  2|1:31.548|       91548|\n",
      "|   841|      20|      17|  1|1:30.800|       90800|\n",
      "|   841|      20|      18|  1|1:31.810|       91810|\n",
      "|   841|      20|      19|  1|1:31.018|       91018|\n",
      "|   841|      20|      20|  1|1:31.055|       91055|\n",
      "+------+--------+--------+---+--------+------------+\n",
      "only showing top 20 rows\n",
      "\n"
     ]
    }
   ],
   "source": [
    "lap_times_df.show()"
   ]
  },
  {
   "cell_type": "code",
   "execution_count": 12,
   "metadata": {},
   "outputs": [
    {
     "data": {
      "text/plain": [
       "490904"
      ]
     },
     "execution_count": 12,
     "metadata": {},
     "output_type": "execute_result"
    }
   ],
   "source": [
    "lap_times_df.count()"
   ]
  },
  {
   "cell_type": "markdown",
   "metadata": {},
   "source": [
    "### Step 3 - Rename columns and add new columns"
   ]
  },
  {
   "cell_type": "code",
   "execution_count": 13,
   "metadata": {},
   "outputs": [],
   "source": [
    "lap_times_df = lap_times_df\\\n",
    "    .withColumnRenamed(\"raceId\", \"race_id\")\\\n",
    "    .withColumnRenamed(\"driverId\", \"driver_id\")\\\n",
    "    .withColumn(\"ingestion_date\", current_timestamp())"
   ]
  },
  {
   "cell_type": "markdown",
   "metadata": {},
   "source": [
    "### Step 4 - Write to output to process container in Parquet Format"
   ]
  },
  {
   "cell_type": "code",
   "execution_count": 14,
   "metadata": {},
   "outputs": [
    {
     "name": "stderr",
     "output_type": "stream",
     "text": [
      "                                                                                \r"
     ]
    }
   ],
   "source": [
    "lap_times_df.write.mode(\"overwrite\").parquet(\"../processed_data/lap_times\")"
   ]
  }
 ],
 "metadata": {
  "kernelspec": {
   "display_name": "data_engineer",
   "language": "python",
   "name": "python3"
  },
  "language_info": {
   "codemirror_mode": {
    "name": "ipython",
    "version": 3
   },
   "file_extension": ".py",
   "mimetype": "text/x-python",
   "name": "python",
   "nbconvert_exporter": "python",
   "pygments_lexer": "ipython3",
   "version": "3.12.0"
  }
 },
 "nbformat": 4,
 "nbformat_minor": 2
}
