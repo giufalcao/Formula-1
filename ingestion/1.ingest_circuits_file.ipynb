{
 "cells": [
  {
   "cell_type": "markdown",
   "metadata": {},
   "source": [
    "### Step 1 - Start Spark Session"
   ]
  },
  {
   "cell_type": "code",
   "execution_count": 1,
   "metadata": {},
   "outputs": [
    {
     "name": "stderr",
     "output_type": "stream",
     "text": [
      "23/12/27 18:37:09 WARN Utils: Your hostname, falcao-sys resolves to a loopback address: 127.0.1.1; using 192.168.11.185 instead (on interface wlx7898e8c12476)\n",
      "23/12/27 18:37:09 WARN Utils: Set SPARK_LOCAL_IP if you need to bind to another address\n",
      "Setting default log level to \"WARN\".\n",
      "To adjust logging level use sc.setLogLevel(newLevel). For SparkR, use setLogLevel(newLevel).\n",
      "23/12/27 18:37:10 WARN NativeCodeLoader: Unable to load native-hadoop library for your platform... using builtin-java classes where applicable\n"
     ]
    }
   ],
   "source": [
    "from pyspark.sql import SparkSession\n",
    "\n",
    "# Initialize a Spark session\n",
    "spark = SparkSession.builder.appName(\"CircuitsIngestion\").getOrCreate()"
   ]
  },
  {
   "cell_type": "markdown",
   "metadata": {},
   "source": [
    "### Step 2: Define a Data Schema and Read the CSV file using the Spark Dataframe Reader"
   ]
  },
  {
   "cell_type": "code",
   "execution_count": 2,
   "metadata": {},
   "outputs": [],
   "source": [
    "from pyspark.sql.types import StructType, StructField, IntegerType, StringType, DoubleType\n",
    "\n",
    "circuits_schema = StructType(fields=[\n",
    "    StructField(\"circuitId\", IntegerType(), False),\n",
    "    StructField(\"circuitRef\", StringType(), True),\n",
    "    StructField(\"name\", StringType(), True),\n",
    "    StructField(\"location\", StringType(), True),\n",
    "    StructField(\"country\", StringType(), True),\n",
    "    StructField(\"lat\", DoubleType(), True),\n",
    "    StructField(\"lng\", DoubleType(), True),\n",
    "    StructField(\"alt\", IntegerType(), True),\n",
    "    StructField(\"url\", StringType(), True)\n",
    "])"
   ]
  },
  {
   "cell_type": "code",
   "execution_count": 3,
   "metadata": {},
   "outputs": [],
   "source": [
    "circuits_df = spark\\\n",
    "    .read\\\n",
    "    .option(\"header\", True)\\\n",
    "    .schema(circuits_schema)\\\n",
    "    .csv(\"../data/circuits.csv\")"
   ]
  },
  {
   "cell_type": "code",
   "execution_count": 4,
   "metadata": {},
   "outputs": [
    {
     "name": "stdout",
     "output_type": "stream",
     "text": [
      "+---------+--------------+------------------------------+------------+---------+--------+---------+---+-----------------------------------------------------------------+\n",
      "|circuitId|circuitRef    |name                          |location    |country  |lat     |lng      |alt|url                                                              |\n",
      "+---------+--------------+------------------------------+------------+---------+--------+---------+---+-----------------------------------------------------------------+\n",
      "|1        |albert_park   |Albert Park Grand Prix Circuit|Melbourne   |Australia|-37.8497|144.968  |10 |http://en.wikipedia.org/wiki/Melbourne_Grand_Prix_Circuit        |\n",
      "|2        |sepang        |Sepang International Circuit  |Kuala Lumpur|Malaysia |2.76083 |101.738  |18 |http://en.wikipedia.org/wiki/Sepang_International_Circuit        |\n",
      "|3        |bahrain       |Bahrain International Circuit |Sakhir      |Bahrain  |26.0325 |50.5106  |7  |http://en.wikipedia.org/wiki/Bahrain_International_Circuit       |\n",
      "|4        |catalunya     |Circuit de Barcelona-Catalunya|Montmeló    |Spain    |41.57   |2.26111  |109|http://en.wikipedia.org/wiki/Circuit_de_Barcelona-Catalunya      |\n",
      "|5        |istanbul      |Istanbul Park                 |Istanbul    |Turkey   |40.9517 |29.405   |130|http://en.wikipedia.org/wiki/Istanbul_Park                       |\n",
      "|6        |monaco        |Circuit de Monaco             |Monte-Carlo |Monaco   |43.7347 |7.42056  |7  |http://en.wikipedia.org/wiki/Circuit_de_Monaco                   |\n",
      "|7        |villeneuve    |Circuit Gilles Villeneuve     |Montreal    |Canada   |45.5    |-73.5228 |13 |http://en.wikipedia.org/wiki/Circuit_Gilles_Villeneuve           |\n",
      "|8        |magny_cours   |Circuit de Nevers Magny-Cours |Magny Cours |France   |46.8642 |3.16361  |228|http://en.wikipedia.org/wiki/Circuit_de_Nevers_Magny-Cours       |\n",
      "|9        |silverstone   |Silverstone Circuit           |Silverstone |UK       |52.0786 |-1.01694 |153|http://en.wikipedia.org/wiki/Silverstone_Circuit                 |\n",
      "|10       |hockenheimring|Hockenheimring                |Hockenheim  |Germany  |49.3278 |8.56583  |103|http://en.wikipedia.org/wiki/Hockenheimring                      |\n",
      "|11       |hungaroring   |Hungaroring                   |Budapest    |Hungary  |47.5789 |19.2486  |264|http://en.wikipedia.org/wiki/Hungaroring                         |\n",
      "|12       |valencia      |Valencia Street Circuit       |Valencia    |Spain    |39.4589 |-0.331667|4  |http://en.wikipedia.org/wiki/Valencia_Street_Circuit             |\n",
      "|13       |spa           |Circuit de Spa-Francorchamps  |Spa         |Belgium  |50.4372 |5.97139  |401|http://en.wikipedia.org/wiki/Circuit_de_Spa-Francorchamps        |\n",
      "|14       |monza         |Autodromo Nazionale di Monza  |Monza       |Italy    |45.6156 |9.28111  |162|http://en.wikipedia.org/wiki/Autodromo_Nazionale_Monza           |\n",
      "|15       |marina_bay    |Marina Bay Street Circuit     |Marina Bay  |Singapore|1.2914  |103.864  |18 |http://en.wikipedia.org/wiki/Marina_Bay_Street_Circuit           |\n",
      "|16       |fuji          |Fuji Speedway                 |Oyama       |Japan    |35.3717 |138.927  |583|http://en.wikipedia.org/wiki/Fuji_Speedway                       |\n",
      "|17       |shanghai      |Shanghai International Circuit|Shanghai    |China    |31.3389 |121.22   |5  |http://en.wikipedia.org/wiki/Shanghai_International_Circuit      |\n",
      "|18       |interlagos    |Autódromo José Carlos Pace    |São Paulo   |Brazil   |-23.7036|-46.6997 |785|http://en.wikipedia.org/wiki/Aut%C3%B3dromo_Jos%C3%A9_Carlos_Pace|\n",
      "|19       |indianapolis  |Indianapolis Motor Speedway   |Indianapolis|USA      |39.795  |-86.2347 |223|http://en.wikipedia.org/wiki/Indianapolis_Motor_Speedway         |\n",
      "|20       |nurburgring   |Nürburgring                   |Nürburg     |Germany  |50.3356 |6.9475   |578|http://en.wikipedia.org/wiki/N%C3%BCrburgring                    |\n",
      "+---------+--------------+------------------------------+------------+---------+--------+---------+---+-----------------------------------------------------------------+\n",
      "only showing top 20 rows\n",
      "\n"
     ]
    }
   ],
   "source": [
    "circuits_df.show(truncate=False)"
   ]
  },
  {
   "cell_type": "markdown",
   "metadata": {},
   "source": [
    "### Step 3: Selecting only the required columns"
   ]
  },
  {
   "cell_type": "code",
   "execution_count": 5,
   "metadata": {},
   "outputs": [],
   "source": [
    "from pyspark.sql.functions import col"
   ]
  },
  {
   "cell_type": "code",
   "execution_count": 6,
   "metadata": {},
   "outputs": [],
   "source": [
    "circuits_df = circuits_df.select(col(\"circuitId\"), col(\"circuitRef\"), col(\"name\"), col(\"location\"), col(\"country\"), col(\"lat\"), col(\"lng\"), col(\"alt\"))"
   ]
  },
  {
   "cell_type": "code",
   "execution_count": 7,
   "metadata": {},
   "outputs": [],
   "source": [
    "circuits_df = circuits_df.select(\n",
    "    circuits_df[\"circuitId\"],\n",
    "    circuits_df[\"circuitRef\"],\n",
    "    circuits_df[\"name\"],\n",
    "    circuits_df[\"location\"],\n",
    "    circuits_df[\"country\"],\n",
    "    circuits_df[\"lat\"],\n",
    "    circuits_df[\"lng\"],\n",
    "    circuits_df[\"alt\"]\n",
    ")"
   ]
  },
  {
   "cell_type": "markdown",
   "metadata": {},
   "source": [
    "### Step 4: Renaming required's columns"
   ]
  },
  {
   "cell_type": "code",
   "execution_count": 8,
   "metadata": {},
   "outputs": [],
   "source": [
    "circuits_df = circuits_df\\\n",
    "    .withColumnRenamed(\"circuitId\", \"circuit_id\")\\\n",
    "    .withColumnRenamed(\"circuitRef\", \"circuit_ref\")\\\n",
    "    .withColumnRenamed(\"lat\", \"latitude\")\\\n",
    "    .withColumnRenamed(\"lng\", \"longitude\")\\\n",
    "    .withColumnRenamed(\"alt\", \"altitude\")"
   ]
  },
  {
   "cell_type": "code",
   "execution_count": 9,
   "metadata": {},
   "outputs": [
    {
     "name": "stdout",
     "output_type": "stream",
     "text": [
      "+----------+--------------+------------------------------+------------+---------+--------+---------+--------+\n",
      "|circuit_id|circuit_ref   |name                          |location    |country  |latitude|longitude|altitude|\n",
      "+----------+--------------+------------------------------+------------+---------+--------+---------+--------+\n",
      "|1         |albert_park   |Albert Park Grand Prix Circuit|Melbourne   |Australia|-37.8497|144.968  |10      |\n",
      "|2         |sepang        |Sepang International Circuit  |Kuala Lumpur|Malaysia |2.76083 |101.738  |18      |\n",
      "|3         |bahrain       |Bahrain International Circuit |Sakhir      |Bahrain  |26.0325 |50.5106  |7       |\n",
      "|4         |catalunya     |Circuit de Barcelona-Catalunya|Montmeló    |Spain    |41.57   |2.26111  |109     |\n",
      "|5         |istanbul      |Istanbul Park                 |Istanbul    |Turkey   |40.9517 |29.405   |130     |\n",
      "|6         |monaco        |Circuit de Monaco             |Monte-Carlo |Monaco   |43.7347 |7.42056  |7       |\n",
      "|7         |villeneuve    |Circuit Gilles Villeneuve     |Montreal    |Canada   |45.5    |-73.5228 |13      |\n",
      "|8         |magny_cours   |Circuit de Nevers Magny-Cours |Magny Cours |France   |46.8642 |3.16361  |228     |\n",
      "|9         |silverstone   |Silverstone Circuit           |Silverstone |UK       |52.0786 |-1.01694 |153     |\n",
      "|10        |hockenheimring|Hockenheimring                |Hockenheim  |Germany  |49.3278 |8.56583  |103     |\n",
      "|11        |hungaroring   |Hungaroring                   |Budapest    |Hungary  |47.5789 |19.2486  |264     |\n",
      "|12        |valencia      |Valencia Street Circuit       |Valencia    |Spain    |39.4589 |-0.331667|4       |\n",
      "|13        |spa           |Circuit de Spa-Francorchamps  |Spa         |Belgium  |50.4372 |5.97139  |401     |\n",
      "|14        |monza         |Autodromo Nazionale di Monza  |Monza       |Italy    |45.6156 |9.28111  |162     |\n",
      "|15        |marina_bay    |Marina Bay Street Circuit     |Marina Bay  |Singapore|1.2914  |103.864  |18      |\n",
      "|16        |fuji          |Fuji Speedway                 |Oyama       |Japan    |35.3717 |138.927  |583     |\n",
      "|17        |shanghai      |Shanghai International Circuit|Shanghai    |China    |31.3389 |121.22   |5       |\n",
      "|18        |interlagos    |Autódromo José Carlos Pace    |São Paulo   |Brazil   |-23.7036|-46.6997 |785     |\n",
      "|19        |indianapolis  |Indianapolis Motor Speedway   |Indianapolis|USA      |39.795  |-86.2347 |223     |\n",
      "|20        |nurburgring   |Nürburgring                   |Nürburg     |Germany  |50.3356 |6.9475   |578     |\n",
      "+----------+--------------+------------------------------+------------+---------+--------+---------+--------+\n",
      "only showing top 20 rows\n",
      "\n"
     ]
    }
   ],
   "source": [
    "circuits_df.show(truncate=False)"
   ]
  },
  {
   "cell_type": "markdown",
   "metadata": {},
   "source": [
    "##### Step 5 - Add ingestion date to the dataframe"
   ]
  },
  {
   "cell_type": "code",
   "execution_count": 10,
   "metadata": {},
   "outputs": [],
   "source": [
    "from pyspark.sql.functions import current_timestamp\n",
    "\n",
    "circuits_df = circuits_df.withColumn(\"ingestion_date\", current_timestamp())"
   ]
  },
  {
   "cell_type": "markdown",
   "metadata": {},
   "source": [
    "##### Step 6 - Write data to a datalake as a parquet"
   ]
  },
  {
   "cell_type": "code",
   "execution_count": 12,
   "metadata": {},
   "outputs": [
    {
     "name": "stderr",
     "output_type": "stream",
     "text": [
      "                                                                                \r"
     ]
    }
   ],
   "source": [
    "circuits_df\\\n",
    "    .write\\\n",
    "    .mode(\"overwrite\")\\\n",
    "    .parquet(\"parquet/circuits\")"
   ]
  }
 ],
 "metadata": {
  "kernelspec": {
   "display_name": "data_engineer",
   "language": "python",
   "name": "python3"
  },
  "language_info": {
   "codemirror_mode": {
    "name": "ipython",
    "version": 3
   },
   "file_extension": ".py",
   "mimetype": "text/x-python",
   "name": "python",
   "nbconvert_exporter": "python",
   "pygments_lexer": "ipython3",
   "version": "3.12.0"
  }
 },
 "nbformat": 4,
 "nbformat_minor": 2
}
