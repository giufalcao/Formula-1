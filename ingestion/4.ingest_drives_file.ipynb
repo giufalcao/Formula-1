{
 "cells": [
  {
   "cell_type": "markdown",
   "metadata": {},
   "source": [
    "### Step 1 - Start Spark Session"
   ]
  },
  {
   "cell_type": "code",
   "execution_count": 1,
   "metadata": {},
   "outputs": [
    {
     "name": "stderr",
     "output_type": "stream",
     "text": [
      "23/12/28 12:38:09 WARN Utils: Your hostname, falcao-sys resolves to a loopback address: 127.0.1.1; using 192.168.11.185 instead (on interface wlx7898e8c12476)\n",
      "23/12/28 12:38:09 WARN Utils: Set SPARK_LOCAL_IP if you need to bind to another address\n",
      "Setting default log level to \"WARN\".\n",
      "To adjust logging level use sc.setLogLevel(newLevel). For SparkR, use setLogLevel(newLevel).\n",
      "23/12/28 12:38:09 WARN NativeCodeLoader: Unable to load native-hadoop library for your platform... using builtin-java classes where applicable\n",
      "23/12/28 12:38:10 WARN Utils: Service 'SparkUI' could not bind on port 4040. Attempting port 4041.\n"
     ]
    }
   ],
   "source": [
    "from pyspark.sql import SparkSession\n",
    "from pyspark.sql.types import StructType, StructField, IntegerType, StringType, DateType\n",
    "from pyspark.sql.functions import concat, lit, current_timestamp\n",
    "\n",
    "# Initialize a Spark session\n",
    "spark = SparkSession.builder.appName(\"DriversIngestion\").getOrCreate()"
   ]
  },
  {
   "cell_type": "markdown",
   "metadata": {},
   "source": [
    "### Step 2 - Read the JSON file sing the Spark Dataframe Reader"
   ]
  },
  {
   "cell_type": "code",
   "execution_count": 2,
   "metadata": {},
   "outputs": [],
   "source": [
    "name_schema = StructType(fields=[\n",
    "    StructField(\"forename\", StringType(), True),\n",
    "    StructField(\"surname\", StringType(), True)\n",
    "])\n",
    "\n",
    "drives_schema = StructType(fields=[\n",
    "    StructField(\"driverId\", StringType(), False),\n",
    "    StructField(\"driverRef\", StringType(), True),\n",
    "    StructField(\"number\", IntegerType(), True),\n",
    "    StructField(\"code\", StringType(), True),\n",
    "    StructField(\"name\", name_schema),\n",
    "    StructField(\"nationality\", StringType(), True),\n",
    "    StructField(\"url\", StringType(), True)\n",
    "])"
   ]
  },
  {
   "cell_type": "code",
   "execution_count": 3,
   "metadata": {},
   "outputs": [],
   "source": [
    "drives_df = spark\\\n",
    "    .read\\\n",
    "    .schema(drives_schema)\\\n",
    "    .json(\"../data/drivers.json\")"
   ]
  },
  {
   "cell_type": "markdown",
   "metadata": {},
   "source": [
    "### Step 3 - Rename columns and Add new columns"
   ]
  },
  {
   "cell_type": "code",
   "execution_count": 4,
   "metadata": {},
   "outputs": [],
   "source": [
    "drives_df = drives_df\\\n",
    "    .withColumnRenamed(\"driverId\", \"driver_id\")\\\n",
    "    .withColumnRenamed(\"driverRef\", \"driver_ref\")\\\n",
    "    .withColumn(\"ingestion_date\", current_timestamp())\\\n",
    "    .withColumn(\"name\", concat(\n",
    "        drives_df[\"name.forename\"],\n",
    "        lit(\" \"),\n",
    "        drives_df[\"name.surname\"]\n",
    "    )\n",
    ")"
   ]
  },
  {
   "cell_type": "code",
   "execution_count": 5,
   "metadata": {},
   "outputs": [
    {
     "name": "stdout",
     "output_type": "stream",
     "text": [
      "+---------+----------+------+----+------------------+-----------+--------------------+--------------------+\n",
      "|driver_id|driver_ref|number|code|              name|nationality|                 url|      ingestion_date|\n",
      "+---------+----------+------+----+------------------+-----------+--------------------+--------------------+\n",
      "|        1|  hamilton|    44| HAM|    Lewis Hamilton|    British|http://en.wikiped...|2023-12-28 12:38:...|\n",
      "|        2|  heidfeld|  NULL| HEI|     Nick Heidfeld|     German|http://en.wikiped...|2023-12-28 12:38:...|\n",
      "|        3|   rosberg|     6| ROS|      Nico Rosberg|     German|http://en.wikiped...|2023-12-28 12:38:...|\n",
      "|        4|    alonso|    14| ALO|   Fernando Alonso|    Spanish|http://en.wikiped...|2023-12-28 12:38:...|\n",
      "|        5|kovalainen|  NULL| KOV| Heikki Kovalainen|    Finnish|http://en.wikiped...|2023-12-28 12:38:...|\n",
      "|        6|  nakajima|  NULL| NAK|   Kazuki Nakajima|   Japanese|http://en.wikiped...|2023-12-28 12:38:...|\n",
      "|        7|  bourdais|  NULL| BOU|Sébastien Bourdais|     French|http://en.wikiped...|2023-12-28 12:38:...|\n",
      "|        8| raikkonen|     7| RAI|    Kimi Räikkönen|    Finnish|http://en.wikiped...|2023-12-28 12:38:...|\n",
      "|        9|    kubica|    88| KUB|     Robert Kubica|     Polish|http://en.wikiped...|2023-12-28 12:38:...|\n",
      "|       10|     glock|  NULL| GLO|        Timo Glock|     German|http://en.wikiped...|2023-12-28 12:38:...|\n",
      "|       11|      sato|  NULL| SAT|       Takuma Sato|   Japanese|http://en.wikiped...|2023-12-28 12:38:...|\n",
      "|       12| piquet_jr|  NULL| PIQ| Nelson Piquet Jr.|  Brazilian|http://en.wikiped...|2023-12-28 12:38:...|\n",
      "|       13|     massa|    19| MAS|      Felipe Massa|  Brazilian|http://en.wikiped...|2023-12-28 12:38:...|\n",
      "|       14| coulthard|  NULL| COU|   David Coulthard|    British|http://en.wikiped...|2023-12-28 12:38:...|\n",
      "|       15|    trulli|  NULL| TRU|      Jarno Trulli|    Italian|http://en.wikiped...|2023-12-28 12:38:...|\n",
      "|       16|     sutil|    99| SUT|      Adrian Sutil|     German|http://en.wikiped...|2023-12-28 12:38:...|\n",
      "|       17|    webber|  NULL| WEB|       Mark Webber| Australian|http://en.wikiped...|2023-12-28 12:38:...|\n",
      "|       18|    button|    22| BUT|     Jenson Button|    British|http://en.wikiped...|2023-12-28 12:38:...|\n",
      "|       19|  davidson|  NULL| DAV|  Anthony Davidson|    British|http://en.wikiped...|2023-12-28 12:38:...|\n",
      "|       20|    vettel|     5| VET|  Sebastian Vettel|     German|http://en.wikiped...|2023-12-28 12:38:...|\n",
      "+---------+----------+------+----+------------------+-----------+--------------------+--------------------+\n",
      "only showing top 20 rows\n",
      "\n"
     ]
    }
   ],
   "source": [
    "drives_df.show()"
   ]
  },
  {
   "cell_type": "markdown",
   "metadata": {},
   "source": [
    "### Step 4 - Drop unwanted columns"
   ]
  },
  {
   "cell_type": "code",
   "execution_count": 6,
   "metadata": {},
   "outputs": [],
   "source": [
    "drives_df = drives_df.drop(drives_df[\"url\"])"
   ]
  },
  {
   "cell_type": "markdown",
   "metadata": {},
   "source": [
    "### Step 5 - Write to output to process container in Parquet Format"
   ]
  },
  {
   "cell_type": "code",
   "execution_count": 8,
   "metadata": {},
   "outputs": [],
   "source": [
    "drives_df.write.mode(\"overwrite\").parquet(\"../processed_data/drives\")"
   ]
  }
 ],
 "metadata": {
  "kernelspec": {
   "display_name": "data_engineer",
   "language": "python",
   "name": "python3"
  },
  "language_info": {
   "codemirror_mode": {
    "name": "ipython",
    "version": 3
   },
   "file_extension": ".py",
   "mimetype": "text/x-python",
   "name": "python",
   "nbconvert_exporter": "python",
   "pygments_lexer": "ipython3",
   "version": "3.12.0"
  }
 },
 "nbformat": 4,
 "nbformat_minor": 2
}
